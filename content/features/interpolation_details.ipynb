{
 "cells": [
  {
   "cell_type": "markdown",
   "metadata": {
    "colab_type": "text",
    "id": "view-in-github"
   },
   "source": [
    "<a href=\"https://colab.research.google.com/github/restrepo/ComputationalMethods/blob/master/material/interpolation_details.ipynb\" target=\"_parent\"><img src=\"https://colab.research.google.com/assets/colab-badge.svg\" alt=\"Open In Colab\"/></a>"
   ]
  },
  {
   "cell_type": "markdown",
   "metadata": {
    "colab_type": "text",
    "id": "DvZeftzu7RZN"
   },
   "source": [
    "# Appendix\n",
    "Thecnical details of interpolation functions: [interpolation_details.ipynb](./interpolation_details.ipynb)"
   ]
  },
  {
   "cell_type": "markdown",
   "metadata": {
    "colab_type": "text",
    "id": "ha2aOzk_7RZO"
   },
   "source": [
    "# Divided Differences"
   ]
  },
  {
   "cell_type": "markdown",
   "metadata": {
    "colab_type": "text",
    "id": "y4bon0dj7RZO"
   },
   "source": [
    "In spite of the good precision achieved by the Lagrange interpolating polynomials, analytical manipulation of such an expressions is rather complicated. Furthermore, when applying other polynomials-based techniques like Hermite polynomials, the algorithms present very different ways to achieve the final interpolation, making a comparison unclear.\n",
    "\n",
    "Divided differences is a way to standardize the notation for interpolating polynomials. Suppose a polynomial $P_n(x)$ and write it in the next form:\n",
    "\n",
    "$$P_n(x) = a_0 + a_1(x-x_0)+ a_2 (x-x_0)(x-x_1)+\\cdots + a_n(x-x_0)\\cdots (x-x_{n-1})$$\n",
    "\n",
    "where $a_i$ are a set of constants to be determined from the given data $(x_i, y_i)$.\n",
    "\n",
    "Note that due to the definition of an interpolant function, previous expression should satisfy:\n",
    "\n",
    "$$P_n(x_0) = a_0 = y_0$$\n",
    "\n",
    "$$P_n(x_1) = a_0 + a_1(x_1-x_0) = y_0 + a_1(x_1-x_0) = y_1 \\ \\ \\ \\longrightarrow \\ \\ \\ \\ a_1 = \\frac{f(x_1)-f(x_0)}{x_1-x_0}$$\n",
    "\n",
    "$\\cdots$ and so.\n",
    "\n",
    "Defining the **zeroth divided difference**, $k=0$, of $x_i$ like\n",
    "\n",
    "$$D_0[x_i] \\equiv f[x_i] \\equiv f(x_i) = y_i$$\n",
    "\n",
    "the **first divided difference**, $k=1$ of $x_i$ like\n",
    "\n",
    "$$D_1[x_i] \\equiv f[x_i, x_{i+1}] \\equiv \\frac{f[x_{i+1}]-f[x_i]}{x_{i+1}-x_i}$$\n",
    "\n",
    "$$D_1[x_i] = \\frac{D_{0}[x_{i+1}]-D_{0}[x_{i}]}{x_{i+1}-x_i} $$\n",
    "\n",
    "the **second divided difference**, $k=2$ of $x_i$ like\n",
    "\n",
    "$$D_2[x_i]\\equiv f[x_i,x_{i+1},x_{i+2}] \\equiv \\frac{f[x_{i+1},x_{i+2}]-f[x_i,x_{i+1}]}{x_{i+2}-x_{i}}$$\n",
    "\n",
    "$$D_2[x_i]=\\frac{D_1[x_{i+1}]-D_1[x_i]}{x_{i+2}-x_{i}}$$\n",
    "\n",
    "successively until the **kth divided difference**\n",
    "\n",
    "$$D_k[x_i] \\equiv f[x_i, x_{i+1},\\cdots, x_{i+k-1},x_{i+k}] \\equiv \\frac{f[x_{i+1},x_{i+2}\\cdots, x_{i+k}]-f[x_i, x_{i+1},\\cdots, x_{i+k-1}]}{x_{i+k}-x_i}$$\n",
    "\n",
    "$$D_k[x_i] = \\frac{D_{k-1}[x_{i+1}]-D_{k-1}[x_{i}]}{x_{i+k}-x_i}$$\n",
    "\n",
    "These expressions are the fundamental bricks for any interpolating method."
   ]
  },
  {
   "cell_type": "code",
   "execution_count": 15,
   "metadata": {
    "colab": {},
    "colab_type": "code",
    "id": "0KeBPW9X7RZP"
   },
   "outputs": [],
   "source": [
    "#Construction of a kth divided difference (recursive code)\n",
    "def D( i, k, Xn, Yn ):\n",
    "    #If k+i>N\n",
    "    if i+k>=len(Xn):\n",
    "        return 0\n",
    "    #Zeroth divided difference\n",
    "    elif k == 0:\n",
    "        return Yn[i]\n",
    "    #If higher divided difference\n",
    "    else:\n",
    "        return (D(i+1, k-1, Xn, Yn)-D(i, k-1, Xn, Yn))/(Xn[i+k]-Xn[i])"
   ]
  },
  {
   "cell_type": "markdown",
   "metadata": {
    "colab_type": "text",
    "id": "Gop6cDHi7RZS"
   },
   "source": [
    "## Example 2"
   ]
  },
  {
   "cell_type": "markdown",
   "metadata": {
    "colab_type": "text",
    "id": "ZVFlECgl7RZT"
   },
   "source": [
    "As an example, Lagrange interpolation can be also derived by using divided differences, which is reached through the next equation:\n",
    "\n",
    "$$P_n(x) = D_0[x_0] + \\sum_{k=1}^n D_k[x_0] (x-x_0) \\cdots (x-x_{k-1})$$\n",
    "\n",
    "Note this expression is by far easier to be manipulated analytically as we can know the coefficients of each order."
   ]
  },
  {
   "cell_type": "markdown",
   "metadata": {
    "colab_type": "text",
    "id": "awNSCSiI7RZT"
   },
   "source": [
    "## <font color='red'>     **Activity** </font>"
   ]
  },
  {
   "cell_type": "markdown",
   "metadata": {
    "colab_type": "text",
    "id": "tRaDUpIL7RZU"
   },
   "source": [
    "<font color='red'>    \n",
    "    \n",
    "Using the previous expression and the defined function for divided differences, show both methods to calculate Lagrange interpolators are equivalents.\n",
    "</font>"
   ]
  },
  {
   "cell_type": "markdown",
   "metadata": {
    "colab_type": "text",
    "id": "Oe3mZNvM7RZV"
   },
   "source": [
    "- - -"
   ]
  },
  {
   "cell_type": "markdown",
   "metadata": {
    "colab_type": "text",
    "id": "n7_u1oPK7RZV"
   },
   "source": [
    "# Hermite Interpolation"
   ]
  },
  {
   "cell_type": "markdown",
   "metadata": {
    "colab_type": "text",
    "id": "clDX2gV17RZW"
   },
   "source": [
    "From calculus we know that Taylor polynomials expand a function at a specific point $x_i$, being both functions (the original one and the Taylor function) exactly equal at any derivative-order at that point. Also, as mentioned before, a Lagrange polynomial, given a set of data points, passes through all those points at the same time. However if those points come from an unknown underlying function $f(x)$, the interpolant polynomial might (surely) differ from the real function at any superior derivative-order. So we have:\n",
    "\n",
    "- **Taylor polynomials** are exact at any order, but that only remains true at a specific point.\n",
    "\n",
    "- **Lagrange polynomials** pass through all points of a give dataset, but only at zeroth-order. Derivatives are not longer equal.\n",
    "\n",
    "Once established these differences, we can introduce Hermite polynomials just as a generalization of both, Taylor and Lagrange polynomials.\n",
    "\n",
    "At first, Hermite polynomials can be approximated at any desired order at all the points, as long as one has all these information. However, for the sake of simplicity and without loss of generality, we shall assume Hermite polynomials equal to the real function at zeroth and first-derivative order.\n",
    "\n",
    "Let's suppose a dataset $\\{x_i\\}_i$ for $i = 0,1,\\cdots,n$ with the respective values $\\{f(x_i)\\}_i$ and $\\{f'(x_i)\\}_i$. If we assume two different polynomials to fit each set of data, i.e. a polynomial for $\\{f(x_i)\\}_i$ and another for $\\{f'(x_i)\\}_i$, we obtain $2n+2$ coefficients, however zeroth-order coefficients can be put together so finally there are $2n+1$ independet coefficients to be determined. In this case, we assign the respective Hermite polynimial as $H_{2n+1}(x)$."
   ]
  },
  {
   "cell_type": "markdown",
   "metadata": {
    "colab_type": "text",
    "id": "IwMAVO9g7RZW"
   },
   "source": [
    "## Derivation in terms of divided differences"
   ]
  },
  {
   "cell_type": "markdown",
   "metadata": {
    "colab_type": "text",
    "id": "GGYB7YyI7RZX"
   },
   "source": [
    "Remembering the divided differences expression for a Lagrange polynomial\n",
    "\n",
    "$$P_n(x) = D_0[x_0] + \\sum_{k=1}^n D_k[x_0] (x-x_0) \\cdots (x-x_{k-1})$$\n",
    "\n",
    "and by defining a new sequence $\\{z_0, z_1, \\cdots, z_{2n+1}\\}$ such that\n",
    "\n",
    "$$z_{2i} = z_{2i+1} = x_i \\mbox{ for } i = 0,1,\\cdots, n$$\n",
    "\n",
    "However, divided differences has to be modified in order to include first-order derivatives:\n",
    "\n",
    "![](https://raw.githubusercontent.com/sbustamante/ComputationalMethods/master/material/figures/table_coefficients.png)\n",
    "\n",
    "Note that $f[z_0,z_1]$ sould be originally\n",
    "\n",
    "$$f[z_0,z_1] = \\frac{f[z_1]-f[z_0]}{z_1-z_0}$$\n",
    "\n",
    "but replacing $z_0 = z_1 = x_0$ this would lead an indetermination. In order to solve this issue, this indertemination can be readily approximated to the derivative at $z_0$, so\n",
    "\n",
    "$$f[z_0,z_1] = f'(x_0)$$\n",
    "\n",
    "or using the previously defined notation\n",
    "\n",
    "$$D_1[z_0] = f'(x_0)$$\n",
    "\n",
    "Generally, for first-order divided differences we will have\n",
    "\n",
    "$$D_1[z_{2i}] = f'(x_i)$$\n",
    "\n",
    "$$D_1[z_{2i+1}] = D_1[x_i]$$\n",
    "\n",
    "Higher order divided differences are calculated as usual.\n",
    "\n",
    "Finally, the Hermite polynomial is built using the next expression\n",
    "\n",
    "$$H_{2n+1}(x) = D_0[z_0] + \\sum_{k=1}^{2n+1} D_k[z_0] (x-z_0) \\cdots (x-z_{k-1})$$\n"
   ]
  },
  {
   "cell_type": "markdown",
   "metadata": {
    "colab_type": "text",
    "id": "VFR4bCLU7RZX"
   },
   "source": [
    "## Example"
   ]
  },
  {
   "cell_type": "code",
   "execution_count": 16,
   "metadata": {
    "colab": {},
    "colab_type": "code",
    "id": "HK67T_MQ7RZY",
    "outputId": "9659510e-272d-476b-ed60-91db09e47638"
   },
   "outputs": [
    {
     "name": "stdout",
     "output_type": "stream",
     "text": [
      "Populating the interactive namespace from numpy and matplotlib\n"
     ]
    }
   ],
   "source": [
    "%pylab inline"
   ]
  },
  {
   "cell_type": "code",
   "execution_count": 17,
   "metadata": {
    "colab": {},
    "colab_type": "code",
    "id": "NWQ_ahRU7RZb"
   },
   "outputs": [],
   "source": [
    "import pandas as pd"
   ]
  },
  {
   "cell_type": "code",
   "execution_count": 18,
   "metadata": {
    "colab": {},
    "colab_type": "code",
    "id": "DZFaFH4-7RZd",
    "outputId": "ac30df41-797c-4239-c5d8-7a298278e3f3"
   },
   "outputs": [
    {
     "data": {
      "text/html": [
       "<div>\n",
       "<style scoped>\n",
       "    .dataframe tbody tr th:only-of-type {\n",
       "        vertical-align: middle;\n",
       "    }\n",
       "\n",
       "    .dataframe tbody tr th {\n",
       "        vertical-align: top;\n",
       "    }\n",
       "\n",
       "    .dataframe thead th {\n",
       "        text-align: right;\n",
       "    }\n",
       "</style>\n",
       "<table border=\"1\" class=\"dataframe\">\n",
       "  <thead>\n",
       "    <tr style=\"text-align: right;\">\n",
       "      <th></th>\n",
       "      <th>X</th>\n",
       "      <th>Y</th>\n",
       "    </tr>\n",
       "  </thead>\n",
       "  <tbody>\n",
       "    <tr>\n",
       "      <th>0</th>\n",
       "      <td>3.0</td>\n",
       "      <td>8.0</td>\n",
       "    </tr>\n",
       "    <tr>\n",
       "      <th>1</th>\n",
       "      <td>10.0</td>\n",
       "      <td>6.5</td>\n",
       "    </tr>\n",
       "    <tr>\n",
       "      <th>2</th>\n",
       "      <td>21.3</td>\n",
       "      <td>3.0</td>\n",
       "    </tr>\n",
       "  </tbody>\n",
       "</table>\n",
       "</div>"
      ],
      "text/plain": [
       "      X    Y\n",
       "0   3.0  8.0\n",
       "1  10.0  6.5\n",
       "2  21.3  3.0"
      ]
     },
     "execution_count": 18,
     "metadata": {},
     "output_type": "execute_result"
    }
   ],
   "source": [
    "df=pd.read_csv('https://raw.githubusercontent.com/restrepo/ComputationalMethods/master/data/interpolation.csv')\n",
    "df"
   ]
  },
  {
   "cell_type": "markdown",
   "metadata": {
    "colab_type": "text",
    "id": "QJUcwgS07RZg"
   },
   "source": [
    "### Hermite interpolation\n",
    "The recommend degree for the Hermite polynomial is $n-1$ where $n$ is the number of data points of the dataset"
   ]
  },
  {
   "cell_type": "code",
   "execution_count": null,
   "metadata": {
    "colab": {},
    "colab_type": "code",
    "id": "2QIuLN4C7RZg"
   },
   "outputs": [],
   "source": [
    "H=np.polynomial.hermite.Hermite.fit(df.X,df.Y,2)"
   ]
  },
  {
   "cell_type": "code",
   "execution_count": null,
   "metadata": {
    "colab": {},
    "colab_type": "code",
    "id": "KzhV5eJk7RZj",
    "outputId": "78ac863c-d1be-49e8-811d-6d4b0108c1dd"
   },
   "outputs": [
    {
     "data": {
      "text/plain": [
       "Text(0,0.5,'$H(x)$')"
      ]
     },
     "execution_count": 13,
     "metadata": {
      "tags": []
     },
     "output_type": "execute_result"
    },
    {
     "data": {
      "image/png": "[encoded data removed]",
      "text/plain": [
       "<Figure size 432x288 with 1 Axes>"
      ]
     },
     "metadata": {
      "needs_background": "light",
      "tags": []
     },
     "output_type": "display_data"
    }
   ],
   "source": [
    "x=np.linspace(df.X.min(),df.X.max(),100)\n",
    "plt.plot(x,H(x))\n",
    "plt.plot(df.X,df.Y,'ro')\n",
    "plt.grid()\n",
    "plt.xlabel('$x$',size=15)\n",
    "plt.ylabel('$H(x)$',size=15)"
   ]
  },
  {
   "cell_type": "markdown",
   "metadata": {
    "colab_type": "text",
    "id": "lprhbdIv7RZm"
   },
   "source": [
    "## Example 3"
   ]
  },
  {
   "cell_type": "markdown",
   "metadata": {
    "colab_type": "text",
    "id": "WavZjzx07RZm"
   },
   "source": [
    "Define a routine to calculate divided differences for Hermite polynomials."
   ]
  },
  {
   "cell_type": "code",
   "execution_count": null,
   "metadata": {
    "colab": {},
    "colab_type": "code",
    "id": "A2BTNAl27RZn"
   },
   "outputs": [],
   "source": [
    "#Construction of a kth divided difference for Hermite polynomials (recursive code)\n",
    "def Dh( j, k, Zn, Yn, Ypn ):\n",
    "    #If k+j>N\n",
    "    if j+k>=len(Zn):\n",
    "        return 0\n",
    "    #Zeroth divided difference\n",
    "    elif k == 0:\n",
    "        return Yn[j/2]\n",
    "    #First order divided difference (even indexes)\n",
    "    elif k == 1 and j%2 == 0:\n",
    "        return Ypn[j/2]\n",
    "    #If higher divided difference\n",
    "    else:\n",
    "        return (Dh(j+1, k-1, Zn, Yn, Ypn)-Dh(j, k-1, Zn, Yn, Ypn))/(Zn[j+k]-Zn[j])"
   ]
  },
  {
   "cell_type": "markdown",
   "metadata": {
    "colab_type": "text",
    "id": "jsxCHrlg7RZp"
   },
   "source": [
    "## <font color='red'> **Activity** </font>"
   ]
  },
  {
   "cell_type": "markdown",
   "metadata": {
    "colab_type": "text",
    "id": "E9-802hy7RZp"
   },
   "source": [
    "<font color='red'>    \n",
    "\n",
    "Calculate a routine, using the previous program for divided differences, that computes the Hermite polynomial given a dataset.\n",
    "\n",
    "Generate a set of $N$ points of the function $\\sin^2(x)$ between $0$ and $2\\pi$, including an array of $x$ positions, $y = f(x)$ and first derivative $y' = f'(x)$.\n",
    "\n",
    "Show which polynomial gives the best approximation to the real function, Hermite or Lagrange polynomial.\n",
    "\n",
    "</font>\n",
    "\n",
    "<font color='white'>\n",
    "Solution:\n",
    "\n",
    "nbviewer.ipython.org/github/sbustamante/ComputationalMethods/blob/master/activities/hermite-and-lagrange.ipynb\n",
    "</font>"
   ]
  },
  {
   "cell_type": "markdown",
   "metadata": {
    "colab_type": "text",
    "id": "iC6eUA-Z7RZq"
   },
   "source": [
    "- - -"
   ]
  }
 ],
 "metadata": {
  "colab": {
   "include_colab_link": true,
   "name": "interpolation_details.ipynb",
   "provenance": []
  },
  "kernelspec": {
   "display_name": "Python 3",
   "language": "python",
   "name": "python3"
  },
  "language_info": {
   "codemirror_mode": {
    "name": "ipython",
    "version": 3
   },
   "file_extension": ".py",
   "mimetype": "text/x-python",
   "name": "python",
   "nbconvert_exporter": "python",
   "pygments_lexer": "ipython3",
   "version": "3.5.3"
  },
  "toc": {
   "colors": {
    "hover_highlight": "#DAA520",
    "running_highlight": "#FF0000",
    "selected_highlight": "#FFD700"
   },
   "moveMenuLeft": true,
   "nav_menu": {
    "height": "341px",
    "width": "252px"
   },
   "navigate_menu": true,
   "number_sections": true,
   "sideBar": true,
   "threshold": 4,
   "toc_cell": false,
   "toc_section_display": "block",
   "toc_window_display": false
  }
 },
 "nbformat": 4,
 "nbformat_minor": 4
}
