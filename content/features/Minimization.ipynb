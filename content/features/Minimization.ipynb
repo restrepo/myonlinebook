{
 "cells": [
  {
   "cell_type": "markdown",
   "metadata": {
    "colab_type": "text",
    "id": "view-in-github"
   },
   "source": [
    "<a href=\"https://colab.research.google.com/github/restrepo/ComputationalMethods/blob/master/material/Minimization.ipynb\" target=\"_parent\"><img src=\"https://colab.research.google.com/assets/colab-badge.svg\" alt=\"Open In Colab\"/></a>"
   ]
  },
  {
   "cell_type": "markdown",
   "metadata": {
    "colab_type": "text",
    "id": "clF8wh4wdgza"
   },
   "source": [
    "# Minimization\n",
    "Find the minumum of a function\n",
    "\n",
    "---\n",
    "## Bibliography\n",
    "[1] [Optimization and fit scipy optimize](https://scipy-lectures.org/intro/scipy.html#optimization-and-fit-scipy-optimize) \n",
    "* [Example](https://scipy-lectures.org/intro/scipy/auto_examples/plot_optimize_example2.html)"
   ]
  },
  {
   "cell_type": "code",
   "execution_count": 23,
   "metadata": {
    "colab": {
     "base_uri": "https://localhost:8080/",
     "height": 34
    },
    "colab_type": "code",
    "id": "a_OlqOD9dgzc",
    "outputId": "6806411c-f348-455c-dea1-61c5199d2c4d"
   },
   "outputs": [
    {
     "name": "stdout",
     "output_type": "stream",
     "text": [
      "Populating the interactive namespace from numpy and matplotlib\n"
     ]
    }
   ],
   "source": [
    "%pylab inline"
   ]
  },
  {
   "cell_type": "code",
   "execution_count": 24,
   "metadata": {
    "colab": {},
    "colab_type": "code",
    "id": "-_tDYtyudgzi"
   },
   "outputs": [],
   "source": [
    "import numpy as np\n",
    "import scipy.optimize as optimize\n",
    "import scipy.interpolate as interpolate\n",
    "import pandas as pd"
   ]
  },
  {
   "cell_type": "markdown",
   "metadata": {
    "colab_type": "text",
    "id": "o9ZnWCm_dgzi"
   },
   "source": [
    "## Example"
   ]
  },
  {
   "cell_type": "markdown",
   "metadata": {
    "colab_type": "text",
    "id": "cDM8-434dgzk"
   },
   "source": [
    "Consider the following dataset"
   ]
  },
  {
   "cell_type": "code",
   "execution_count": 3,
   "metadata": {
    "colab": {
     "base_uri": "https://localhost:8080/",
     "height": 233
    },
    "colab_type": "code",
    "id": "te8_cqDQdgzm",
    "outputId": "25ba7a95-f113-47af-81b9-48c5f62cc0a0"
   },
   "outputs": [
    {
     "data": {
      "text/html": [
       "<div>\n",
       "<style scoped>\n",
       "    .dataframe tbody tr th:only-of-type {\n",
       "        vertical-align: middle;\n",
       "    }\n",
       "\n",
       "    .dataframe tbody tr th {\n",
       "        vertical-align: top;\n",
       "    }\n",
       "\n",
       "    .dataframe thead th {\n",
       "        text-align: right;\n",
       "    }\n",
       "</style>\n",
       "<table border=\"1\" class=\"dataframe\">\n",
       "  <thead>\n",
       "    <tr style=\"text-align: right;\">\n",
       "      <th></th>\n",
       "      <th>X</th>\n",
       "      <th>Y</th>\n",
       "    </tr>\n",
       "  </thead>\n",
       "  <tbody>\n",
       "    <tr>\n",
       "      <th>0</th>\n",
       "      <td>2.5</td>\n",
       "      <td>3.00</td>\n",
       "    </tr>\n",
       "    <tr>\n",
       "      <th>1</th>\n",
       "      <td>3.1</td>\n",
       "      <td>-1.01</td>\n",
       "    </tr>\n",
       "    <tr>\n",
       "      <th>2</th>\n",
       "      <td>4.5</td>\n",
       "      <td>1.50</td>\n",
       "    </tr>\n",
       "    <tr>\n",
       "      <th>3</th>\n",
       "      <td>5.0</td>\n",
       "      <td>0.70</td>\n",
       "    </tr>\n",
       "    <tr>\n",
       "      <th>4</th>\n",
       "      <td>5.9</td>\n",
       "      <td>2.80</td>\n",
       "    </tr>\n",
       "    <tr>\n",
       "      <th>5</th>\n",
       "      <td>6.2</td>\n",
       "      <td>1.50</td>\n",
       "    </tr>\n",
       "  </tbody>\n",
       "</table>\n",
       "</div>"
      ],
      "text/plain": [
       "     X     Y\n",
       "0  2.5  3.00\n",
       "1  3.1 -1.01\n",
       "2  4.5  1.50\n",
       "3  5.0  0.70\n",
       "4  5.9  2.80\n",
       "5  6.2  1.50"
      ]
     },
     "execution_count": 3,
     "metadata": {
      "tags": []
     },
     "output_type": "execute_result"
    }
   ],
   "source": [
    "df=pd.DataFrame({'X':[2.5,3.1,4.5,5,5.9,6.2],\n",
    "              'Y':[3,-1.01,1.5,0.7,2.8,1.5]})\n",
    "df"
   ]
  },
  {
   "cell_type": "markdown",
   "metadata": {
    "colab_type": "text",
    "id": "9A1cN3eZdgzo"
   },
   "source": [
    "### Laggrange interpolation"
   ]
  },
  {
   "cell_type": "code",
   "execution_count": null,
   "metadata": {
    "colab": {},
    "colab_type": "code",
    "id": "LsPt_BSkdgzq"
   },
   "outputs": [],
   "source": [
    "pol=interpolate.lagrange(df.X,df.Y)"
   ]
  },
  {
   "cell_type": "code",
   "execution_count": 5,
   "metadata": {
    "colab": {
     "base_uri": "https://localhost:8080/",
     "height": 51
    },
    "colab_type": "code",
    "id": "EXe1GFYGtDN_",
    "outputId": "a8aad374-dcb7-43e6-e674-7628039f8e18"
   },
   "outputs": [
    {
     "name": "stdout",
     "output_type": "stream",
     "text": [
      "         5         4         3         2\n",
      "-0.8941 x + 19.97 x - 174.7 x + 746.7 x - 1557 x + 1264\n"
     ]
    }
   ],
   "source": [
    "print(pol)"
   ]
  },
  {
   "cell_type": "markdown",
   "metadata": {
    "colab_type": "text",
    "id": "eDLotgQ_0xWr"
   },
   "source": [
    "`df.X` is a Pandas Series"
   ]
  },
  {
   "cell_type": "code",
   "execution_count": 6,
   "metadata": {
    "colab": {
     "base_uri": "https://localhost:8080/",
     "height": 137
    },
    "colab_type": "code",
    "id": "R9JUnYyM056J",
    "outputId": "dd3f94e9-c43b-4a67-cf0b-954df929bd8d"
   },
   "outputs": [
    {
     "data": {
      "text/plain": [
       "0    2.5\n",
       "1    3.1\n",
       "2    4.5\n",
       "3    5.0\n",
       "4    5.9\n",
       "5    6.2\n",
       "Name: X, dtype: float64"
      ]
     },
     "execution_count": 6,
     "metadata": {
      "tags": []
     },
     "output_type": "execute_result"
    }
   ],
   "source": [
    "df.X"
   ]
  },
  {
   "cell_type": "markdown",
   "metadata": {
    "colab_type": "text",
    "id": "tRWXrcKn08tB"
   },
   "source": [
    "To obtain some specific valuea by using slices, we must use `.iloc`\n",
    "\n",
    "Note that `df.X[3]=df.X.loc[3]=df.X.iloc[3]`"
   ]
  },
  {
   "cell_type": "code",
   "execution_count": 7,
   "metadata": {
    "colab": {
     "base_uri": "https://localhost:8080/",
     "height": 34
    },
    "colab_type": "code",
    "id": "slfzFtTtDTdU",
    "outputId": "f7adbc80-6248-41d0-b677-ec6fe0787999"
   },
   "outputs": [
    {
     "data": {
      "text/plain": [
       "(5.0, 5.0, 5.0)"
      ]
     },
     "execution_count": 7,
     "metadata": {
      "tags": []
     },
     "output_type": "execute_result"
    }
   ],
   "source": [
    "df.X[3],df.X.loc[3],df.X.iloc[3]"
   ]
  },
  {
   "cell_type": "code",
   "execution_count": null,
   "metadata": {
    "colab": {},
    "colab_type": "code",
    "id": "tbDeZgXj1CAR"
   },
   "outputs": [],
   "source": [
    "but only "
   ]
  },
  {
   "cell_type": "code",
   "execution_count": 8,
   "metadata": {
    "colab": {
     "base_uri": "https://localhost:8080/",
     "height": 34
    },
    "colab_type": "code",
    "id": "_ZPFiUHTDTdZ",
    "outputId": "931c19d6-7171-44d1-e809-074bf8aefa1e"
   },
   "outputs": [
    {
     "data": {
      "text/plain": [
       "6.2"
      ]
     },
     "execution_count": 8,
     "metadata": {
      "tags": []
     },
     "output_type": "execute_result"
    }
   ],
   "source": [
    "df.X.iloc[-1]"
   ]
  },
  {
   "cell_type": "markdown",
   "metadata": {
    "colab_type": "text",
    "id": "qfo3MjYJDTdd"
   },
   "source": [
    "works!"
   ]
  },
  {
   "cell_type": "code",
   "execution_count": 9,
   "metadata": {
    "colab": {
     "base_uri": "https://localhost:8080/",
     "height": 279
    },
    "colab_type": "code",
    "id": "V4mFHd1udgzs",
    "outputId": "94e6c256-6fb8-42c2-a86f-cbe1b50a6d84"
   },
   "outputs": [
    {
     "data": {
      "image/png": "[encoded data removed]",
      "text/plain": [
       "<Figure size 432x288 with 1 Axes>"
      ]
     },
     "metadata": {
      "needs_background": "light",
      "tags": []
     },
     "output_type": "display_data"
    }
   ],
   "source": [
    "x=np.linspace(df.X.iloc[0],df.X.iloc[-1],100)\n",
    "plt.plot(x,pol(x))\n",
    "plt.plot(df.X,df.Y,'ro')\n",
    "plt.xlabel('X')\n",
    "plt.ylabel('Y')\n",
    "plt.grid()"
   ]
  },
  {
   "cell_type": "markdown",
   "metadata": {
    "colab_type": "text",
    "id": "kAQzDhu4y2D9"
   },
   "source": [
    "## Hermite interpolation\n",
    "The recommend degree for the Hermite polynomial is $n-1$ where $n$ is the number of data of the dataset"
   ]
  },
  {
   "cell_type": "code",
   "execution_count": null,
   "metadata": {
    "colab": {},
    "colab_type": "code",
    "id": "Vwfh2ncUEvHO"
   },
   "outputs": [],
   "source": [
    "H=np.polynomial.hermite.Hermite.fit(df.X,df.Y,5)"
   ]
  },
  {
   "cell_type": "code",
   "execution_count": 18,
   "metadata": {
    "colab": {
     "base_uri": "https://localhost:8080/",
     "height": 296
    },
    "colab_type": "code",
    "id": "5HMGT25vt5Sj",
    "outputId": "84fab897-ac0a-48ab-ec90-4b454c66ce06"
   },
   "outputs": [
    {
     "data": {
      "text/plain": [
       "Text(0, 0.5, '$H(x)$')"
      ]
     },
     "execution_count": 18,
     "metadata": {
      "tags": []
     },
     "output_type": "execute_result"
    },
    {
     "data": {
      "image/png": "[encoded data removed]",
      "text/plain": [
       "<Figure size 432x288 with 1 Axes>"
      ]
     },
     "metadata": {
      "needs_background": "light",
      "tags": []
     },
     "output_type": "display_data"
    }
   ],
   "source": [
    "plt.plot(x,H(x),'k-')\n",
    "plt.plot(x,pol(x),'c--')\n",
    "plt.plot(df.X,df.Y,'ro')\n",
    "plt.grid()\n",
    "plt.xlabel('$x$')\n",
    "plt.ylabel('$H(x)$')"
   ]
  },
  {
   "cell_type": "markdown",
   "metadata": {
    "colab_type": "text",
    "id": "sELjzLJu3ANt"
   },
   "source": [
    "## Finding the local minimums of a function"
   ]
  },
  {
   "cell_type": "markdown",
   "metadata": {
    "colab_type": "text",
    "id": "Xn1LS8S_dgzx"
   },
   "source": [
    "Encontrando en primer mínimo cerca de <font color=\"red\">3</font> (que resulta ser el mínimo global en [0,6]) y cerca de e <font color=\"red\">5</font>  (un mínimo local)"
   ]
  },
  {
   "cell_type": "code",
   "execution_count": 19,
   "metadata": {
    "colab": {
     "base_uri": "https://localhost:8080/",
     "height": 154
    },
    "colab_type": "code",
    "id": "cOSweiw3dgzx",
    "outputId": "75794fa4-c4cd-42c9-c11c-fbd2cdc3c2f6"
   },
   "outputs": [
    {
     "name": "stdout",
     "output_type": "stream",
     "text": [
      "Optimization terminated successfully.\n",
      "         Current function value: -1.374113\n",
      "         Iterations: 2\n",
      "         Function evaluations: 28\n",
      "Optimization terminated successfully.\n",
      "         Current function value: 0.699898\n",
      "         Iterations: 2\n",
      "         Function evaluations: 50\n"
     ]
    }
   ],
   "source": [
    "min1=optimize.fmin_powell(pol,3,full_output=True)\n",
    "min2=optimize.fmin_powell(pol,5.2,full_output=True)"
   ]
  },
  {
   "cell_type": "code",
   "execution_count": 20,
   "metadata": {
    "colab": {
     "base_uri": "https://localhost:8080/",
     "height": 34
    },
    "colab_type": "code",
    "id": "la9Q-ixD4IEL",
    "outputId": "6868bfb4-4913-4ccb-a3d7-c264327b1f30"
   },
   "outputs": [
    {
     "data": {
      "text/plain": [
       "(array(2.92784955), array(-1.37411316), array([[1.]]), 2, 28, 0)"
      ]
     },
     "execution_count": 20,
     "metadata": {
      "tags": []
     },
     "output_type": "execute_result"
    }
   ],
   "source": [
    "min1"
   ]
  },
  {
   "cell_type": "code",
   "execution_count": null,
   "metadata": {
    "colab": {},
    "colab_type": "code",
    "id": "FwRaqfGaGLhq"
   },
   "outputs": [],
   "source": []
  },
  {
   "cell_type": "code",
   "execution_count": 21,
   "metadata": {
    "colab": {
     "base_uri": "https://localhost:8080/",
     "height": 51
    },
    "colab_type": "code",
    "id": "rgJuNHLHdgz0",
    "outputId": "bea2a9d2-da8b-4dd4-95e7-87de2f4e9bba"
   },
   "outputs": [
    {
     "name": "stdout",
     "output_type": "stream",
     "text": [
      "El mínimo global es f(x)=-1.3741131581291484 para x=2.9278495523433894;\n",
      " el mínimo local es f(x)=0.6998981514389016 para x=5.004929292406532\n"
     ]
    }
   ],
   "source": [
    "print('El mínimo global es f(x)={} para x={};\\n el mínimo local es f(x)={} para x={}'.format(\n",
    "    min1[1],min1[0],min2[1],min2[0]))"
   ]
  },
  {
   "cell_type": "markdown",
   "metadata": {
    "colab_type": "text",
    "id": "ZczFMqAgLIDr"
   },
   "source": [
    "**Activity** Find the maximum values of the Hermite interpolation function of degree 5 to the set of points: https://github.com/restrepo/ComputationalMethods/blob/master/data/hermite.csv\n",
    "\n"
   ]
  },
  {
   "cell_type": "code",
   "execution_count": 29,
   "metadata": {
    "colab": {},
    "colab_type": "code",
    "id": "7jgYitmHM0wh"
   },
   "outputs": [
    {
     "data": {
      "text/plain": [
       "Text(0,0.5,'$H(x)$')"
      ]
     },
     "execution_count": 29,
     "metadata": {},
     "output_type": "execute_result"
    },
    {
     "data": {
      "image/png": "[encoded data removed]",
      "text/plain": [
       "<Figure size 432x288 with 1 Axes>"
      ]
     },
     "metadata": {
      "needs_background": "light"
     },
     "output_type": "display_data"
    }
   ],
   "source": [
    "df=pd.read_csv('https://raw.githubusercontent.com/restrepo/ComputationalMethods/master/data/hermite.csv')\n",
    "H=np.polynomial.hermite.Hermite.fit(df.X,df.Y,5)\n",
    "x=np.linspace(df.X.iloc[0],df.X.iloc[-1],100)\n",
    "plt.plot(x,-H(x),'k-')\n",
    "plt.grid()\n",
    "plt.xlabel('$x$')\n",
    "plt.ylabel('$H(x)$')"
   ]
  },
  {
   "cell_type": "markdown",
   "metadata": {},
   "source": [
    "`fmin_powell` try to search the global minimum"
   ]
  },
  {
   "cell_type": "code",
   "execution_count": 50,
   "metadata": {},
   "outputs": [
    {
     "name": "stdout",
     "output_type": "stream",
     "text": [
      "Optimization terminated successfully.\n",
      "         Current function value: -2.803764\n",
      "         Iterations: 2\n",
      "         Function evaluations: 27\n"
     ]
    },
    {
     "data": {
      "text/plain": [
       "array(5.918213)"
      ]
     },
     "execution_count": 50,
     "metadata": {},
     "output_type": "execute_result"
    }
   ],
   "source": [
    "optimize.fmin_powell(-H,4.5)"
   ]
  },
  {
   "cell_type": "markdown",
   "metadata": {},
   "source": [
    "### Find a local minumum"
   ]
  },
  {
   "cell_type": "markdown",
   "metadata": {},
   "source": [
    "close minimum"
   ]
  },
  {
   "cell_type": "code",
   "execution_count": 55,
   "metadata": {},
   "outputs": [
    {
     "data": {
      "text/plain": [
       "array([4.01502381])"
      ]
     },
     "execution_count": 55,
     "metadata": {},
     "output_type": "execute_result"
    }
   ],
   "source": [
    "min1=optimize.minimize(-H,x0=4)\n",
    "min1['x']"
   ]
  },
  {
   "cell_type": "code",
   "execution_count": 56,
   "metadata": {},
   "outputs": [
    {
     "data": {
      "text/plain": [
       "array([5.91821427])"
      ]
     },
     "execution_count": 56,
     "metadata": {},
     "output_type": "execute_result"
    }
   ],
   "source": [
    "min1=optimize.minimize(-H,5.2)\n",
    "min1['x']"
   ]
  },
  {
   "cell_type": "markdown",
   "metadata": {},
   "source": [
    "minimum in a range"
   ]
  },
  {
   "cell_type": "code",
   "execution_count": 58,
   "metadata": {},
   "outputs": [
    {
     "data": {
      "text/plain": [
       "array([4.0150238])"
      ]
     },
     "execution_count": 58,
     "metadata": {},
     "output_type": "execute_result"
    }
   ],
   "source": [
    "min1=optimize.minimize(-H,x0=4,bounds=((3.5, 4.5), ) )\n",
    "min1['x']"
   ]
  },
  {
   "cell_type": "code",
   "execution_count": 43,
   "metadata": {},
   "outputs": [
    {
     "data": {
      "text/plain": [
       "4.015025330027828"
      ]
     },
     "execution_count": 43,
     "metadata": {},
     "output_type": "execute_result"
    }
   ],
   "source": [
    "xmin_local = optimize.fminbound(-H, 3.5, 4.5)\n",
    "xmin_local"
   ]
  },
  {
   "cell_type": "code",
   "execution_count": 59,
   "metadata": {},
   "outputs": [
    {
     "data": {
      "text/plain": [
       "array([4.01503906])"
      ]
     },
     "execution_count": 59,
     "metadata": {},
     "output_type": "execute_result"
    }
   ],
   "source": [
    "optimize.brute(-H,ranges=((3.5,4.5,0.1),))"
   ]
  },
  {
   "cell_type": "markdown",
   "metadata": {},
   "source": [
    "### Find a global minumum (alternative)"
   ]
  },
  {
   "cell_type": "code",
   "execution_count": 68,
   "metadata": {},
   "outputs": [
    {
     "data": {
      "text/plain": [
       "array([5.91821429])"
      ]
     },
     "execution_count": 68,
     "metadata": {},
     "output_type": "execute_result"
    }
   ],
   "source": [
    "min1=optimize.basinhopping(-H,5.5)\n",
    "min1['x']"
   ]
  },
  {
   "cell_type": "markdown",
   "metadata": {
    "colab_type": "text",
    "id": "kcxcq_UHdgz4"
   },
   "source": [
    "## The Higgs potential\n",
    "To write greek letter inside a cell use the $\\rm \\LaTeX$ macro and the tab, e.g: `\\mu<TAB>`, to produce μ"
   ]
  },
  {
   "cell_type": "code",
   "execution_count": null,
   "metadata": {
    "colab": {},
    "colab_type": "code",
    "id": "6gwXoy3Y4uHq"
   },
   "outputs": [],
   "source": [
    "α"
   ]
  },
  {
   "cell_type": "code",
   "execution_count": 26,
   "metadata": {
    "colab": {
     "base_uri": "https://localhost:8080/",
     "height": 34
    },
    "colab_type": "code",
    "id": "3_SlIknqdgz5",
    "outputId": "0097820d-8419-43ec-8bf3-93da3f3a4b1f"
   },
   "outputs": [
    {
     "data": {
      "text/plain": [
       "(89.09545442950498, 0.13093799079487806)"
      ]
     },
     "execution_count": 26,
     "metadata": {
      "tags": []
     },
     "output_type": "execute_result"
    }
   ],
   "source": [
    "m_H=126 # GeV\n",
    "G_F=1.1663787E-5 #GeV^-2\n",
    "v=1/np.sqrt(np.sqrt(2.)*G_F) # GeV\n",
    "μ=np.sqrt(m_H**2/2)\n",
    "λ=m_H**2/(2.*v**2)\n",
    "μ,λ"
   ]
  },
  {
   "cell_type": "code",
   "execution_count": 29,
   "metadata": {
    "colab": {
     "base_uri": "https://localhost:8080/",
     "height": 303
    },
    "colab_type": "code",
    "id": "kjckHBGPdgz9",
    "outputId": "94ebd377-8942-4e8b-c468-f7a91ffcdf1b"
   },
   "outputs": [
    {
     "data": {
      "image/png": "[encoded data removed]",
      "text/plain": [
       "<Figure size 432x288 with 1 Axes>"
      ]
     },
     "metadata": {
      "needs_background": "light",
      "tags": []
     },
     "output_type": "display_data"
    }
   ],
   "source": [
    "ϕ=np.linspace(-300,300)\n",
    "Vp=lambda ϕ: 0.5*μ**2*ϕ**2+0.25*λ*ϕ**4\n",
    "plt.plot(ϕ, Vp(ϕ) )\n",
    "plt.xlabel(r'$\\phi$ [GeV]',size=20 )\n",
    "plt.ylabel(r'$V(\\phi)$ [GeV]',size=20)\n",
    "plt.xlabel(r'$\\phi$ [GeV]',size=20 )\n",
    "plt.ylabel(r'$V(\\phi)$ [GeV$^4$]',size=20)\n",
    "plt.grid()"
   ]
  },
  {
   "cell_type": "code",
   "execution_count": null,
   "metadata": {
    "colab": {},
    "colab_type": "code",
    "id": "hMQL-lgIdgz_"
   },
   "outputs": [],
   "source": [
    "μ=μ*1j\n",
    "V=lambda ϕ: Vp(ϕ).real"
   ]
  },
  {
   "cell_type": "code",
   "execution_count": 32,
   "metadata": {
    "colab": {
     "base_uri": "https://localhost:8080/",
     "height": 276
    },
    "colab_type": "code",
    "id": "jML4SJqwdg0C",
    "outputId": "021254ef-48ed-423c-d093-24df196843ed"
   },
   "outputs": [
    {
     "data": {
      "image/png": "[encoded data removed]",
      "text/plain": [
       "<Figure size 432x288 with 1 Axes>"
      ]
     },
     "metadata": {
      "needs_background": "light",
      "tags": []
     },
     "output_type": "display_data"
    }
   ],
   "source": [
    "ϕ=np.linspace(-380,380)\n",
    "plt.plot(ϕ, V(ϕ) )\n",
    "plt.grid()"
   ]
  },
  {
   "cell_type": "code",
   "execution_count": 33,
   "metadata": {
    "colab": {
     "base_uri": "https://localhost:8080/",
     "height": 85
    },
    "colab_type": "code",
    "id": "SiGF-Sgvdg0G",
    "outputId": "76da1e33-5b32-4c92-e0f1-d277fe73ea24"
   },
   "outputs": [
    {
     "name": "stdout",
     "output_type": "stream",
     "text": [
      "Optimization terminated successfully.\n",
      "         Current function value: -120308559.069597\n",
      "         Iterations: 4\n",
      "         Function evaluations: 74\n"
     ]
    }
   ],
   "source": [
    "fp=optimize.fmin_powell(V,200,ftol=1E-16,full_output=True)"
   ]
  },
  {
   "cell_type": "code",
   "execution_count": null,
   "metadata": {
    "colab": {},
    "colab_type": "code",
    "id": "ow-5I0Szdg0K"
   },
   "outputs": [],
   "source": [
    "ϕ_min=fp[0]"
   ]
  },
  {
   "cell_type": "code",
   "execution_count": 35,
   "metadata": {
    "colab": {
     "base_uri": "https://localhost:8080/",
     "height": 34
    },
    "colab_type": "code",
    "id": "0svkw5eSdg0N",
    "outputId": "f2526a51-bd6a-483b-ab1c-e9b5b2b10594"
   },
   "outputs": [
    {
     "name": "stdout",
     "output_type": "stream",
     "text": [
      "246.21964987858152 246.21965079413738\n"
     ]
    }
   ],
   "source": [
    "print(ϕ_min,v)"
   ]
  },
  {
   "cell_type": "markdown",
   "metadata": {
    "colab_type": "text",
    "id": "CRgwJ5SVdg0T"
   },
   "source": [
    "##  Activity \n",
    "For a complex scalar field with potential\n",
    "\\begin{equation}\n",
    "V(\\phi)=\\mu^2\\phi^*\\phi + \\lambda (\\phi^*\\phi)^2\n",
    "\\end{equation}\n",
    "with \n",
    "\\begin{equation}\n",
    "\\phi=\\frac{\\phi_1+i\\phi_2  }{\\sqrt{2} }\n",
    "\\end{equation}\n",
    "and $\\mu^2<0$, and $\\lambda>0$, find some of the infinite number of minimum values of $\\phi$ "
   ]
  },
  {
   "cell_type": "code",
   "execution_count": null,
   "metadata": {
    "colab": {},
    "colab_type": "code",
    "id": "roGaEUOECs6T"
   },
   "outputs": [],
   "source": [
    "m=89j\n",
    "l=λ"
   ]
  },
  {
   "cell_type": "code",
   "execution_count": null,
   "metadata": {
    "colab": {},
    "colab_type": "code",
    "id": "DdzKTsx2C0To"
   },
   "outputs": [],
   "source": [
    "def f(x):\n",
    "    return ( 0.5*m**2*(x[0]**2+x[1]**2)+0.25*l*(x[0]**2+x[1]**2)**2).real"
   ]
  },
  {
   "cell_type": "code",
   "execution_count": 38,
   "metadata": {
    "colab": {
     "base_uri": "https://localhost:8080/",
     "height": 103
    },
    "colab_type": "code",
    "id": "86f1ZqusDBPa",
    "outputId": "e10517d1-0a89-4197-8bef-032878c034cc"
   },
   "outputs": [
    {
     "name": "stdout",
     "output_type": "stream",
     "text": [
      "Optimization terminated successfully.\n",
      "         Current function value: -119793805.867789\n",
      "         Iterations: 3\n",
      "         Function evaluations: 129\n"
     ]
    },
    {
     "data": {
      "text/plain": [
       "array([245.95486481,  -0.69854784])"
      ]
     },
     "execution_count": 38,
     "metadata": {
      "tags": []
     },
     "output_type": "execute_result"
    }
   ],
   "source": [
    "fmin=optimize.fmin_powell(f,[0,0],ftol=1E-16,full_output=True)\n",
    "fmin[0]"
   ]
  },
  {
   "cell_type": "code",
   "execution_count": null,
   "metadata": {
    "colab": {
     "base_uri": "https://localhost:8080/",
     "height": 34
    },
    "colab_type": "code",
    "id": "k1oZmo7GFWDl",
    "outputId": "fcd2d495-c0d6-4d0c-dbd3-425932c894a0"
   },
   "outputs": [
    {
     "data": {
      "text/plain": [
       "245.95585679378814"
      ]
     },
     "execution_count": 103,
     "metadata": {
      "tags": []
     },
     "output_type": "execute_result"
    }
   ],
   "source": [
    "np.sqrt( fmin[0][0]**2+fmin[0][1]**2 )"
   ]
  },
  {
   "cell_type": "markdown",
   "metadata": {
    "colab_type": "text",
    "id": "n2o2H-HHdg0T"
   },
   "source": [
    "## Least action\n",
    "See [Least action minimization](./least_action_minimization.ipynb)"
   ]
  },
  {
   "cell_type": "code",
   "execution_count": null,
   "metadata": {
    "colab": {
     "base_uri": "https://localhost:8080/",
     "height": 34
    },
    "colab_type": "code",
    "id": "fBOaRhtp-t-p",
    "outputId": "4b04e9be-d3a1-4799-d78c-d9c88b601c71"
   },
   "outputs": [
    {
     "data": {
      "text/plain": [
       "array([0. , 0.5, 1. , 1.5, 2. , 2.5, 3. ])"
      ]
     },
     "execution_count": 45,
     "metadata": {
      "tags": []
     },
     "output_type": "execute_result"
    }
   ],
   "source": [
    "Δt=0.5\n",
    "t=np.arange(0,3+Δt,Δt)\n",
    "t"
   ]
  },
  {
   "cell_type": "code",
   "execution_count": null,
   "metadata": {
    "colab": {
     "base_uri": "https://localhost:8080/",
     "height": 34
    },
    "colab_type": "code",
    "id": "Htys3dJg-2Lj",
    "outputId": "2c9d260e-aaec-4cc7-e7f3-36e12757e1d2"
   },
   "outputs": [
    {
     "data": {
      "text/plain": [
       "array([0.5, 1. , 1.5, 2. , 2.5, 3. ])"
      ]
     },
     "execution_count": 46,
     "metadata": {
      "tags": []
     },
     "output_type": "execute_result"
    }
   ],
   "source": [
    "t[1:]"
   ]
  },
  {
   "cell_type": "code",
   "execution_count": null,
   "metadata": {
    "colab": {
     "base_uri": "https://localhost:8080/",
     "height": 34
    },
    "colab_type": "code",
    "id": "-LvFPhyv_YT3",
    "outputId": "3ecc7691-7a55-432d-dabc-dd89614fde10"
   },
   "outputs": [
    {
     "data": {
      "text/plain": [
       "array([0. , 0.5, 1. , 1.5, 2. , 2.5])"
      ]
     },
     "execution_count": 47,
     "metadata": {
      "tags": []
     },
     "output_type": "execute_result"
    }
   ],
   "source": [
    "t[:-1]"
   ]
  },
  {
   "cell_type": "code",
   "execution_count": null,
   "metadata": {
    "colab": {
     "base_uri": "https://localhost:8080/",
     "height": 34
    },
    "colab_type": "code",
    "id": "aGqULUbmAIuA",
    "outputId": "f17651f7-661b-4f0a-c54e-7400420e054e"
   },
   "outputs": [
    {
     "data": {
      "text/plain": [
       "array([0.5, 0.5, 0.5, 0.5, 0.5, 0.5])"
      ]
     },
     "execution_count": 52,
     "metadata": {
      "tags": []
     },
     "output_type": "execute_result"
    }
   ],
   "source": [
    "t[1:]-t[:-1]"
   ]
  },
  {
   "cell_type": "code",
   "execution_count": null,
   "metadata": {
    "colab": {
     "base_uri": "https://localhost:8080/",
     "height": 34
    },
    "colab_type": "code",
    "id": "70AD87-S_iY4",
    "outputId": "431d9ae1-c48d-427d-b3d5-104c86efd0c9"
   },
   "outputs": [
    {
     "name": "stdout",
     "output_type": "stream",
     "text": [
      "Δt=t_{i+1}-t_i= [0.5 0.5 0.5 0.5 0.5 0.5]\n"
     ]
    }
   ],
   "source": [
    "print( 'Δt=t_{i+1}-t_i=', t[1:]-t[:-1] ) "
   ]
  },
  {
   "cell_type": "code",
   "execution_count": null,
   "metadata": {
    "colab": {},
    "colab_type": "code",
    "id": "x1mVx9XSdg0V"
   },
   "outputs": [],
   "source": [
    "global g  \n",
    "g=9.8"
   ]
  },
  {
   "cell_type": "code",
   "execution_count": null,
   "metadata": {
    "colab": {},
    "colab_type": "code",
    "id": "vm7zYnR2dg0Y"
   },
   "outputs": [],
   "source": [
    "def S(x,t=3.,m=0.2,xini=0.,xend=0.):\n",
    "    t=float(t)\n",
    "    Dt=t/x[:-1].size\n",
    "    x=np.asarray(x)\n",
    "    #Fix initial and final point\n",
    "    x[0]=xini\n",
    "    x[-1]=xend\n",
    "    return ((0.5*m*(x[1:]-x[:-1])**2/Dt**2-0.5*m*g*(x[1:]+x[:-1]))*Dt).sum()"
   ]
  },
  {
   "cell_type": "markdown",
   "metadata": {
    "colab_type": "text",
    "id": "0KI0HHcddg0a"
   },
   "source": [
    "Function to find the least Action by using `scipy.optimize.fmin_powell`. It start from $\\mathbf{x}=(x_{\\hbox{ini}},0,0,\\ldots,x_{\\hbox{end}})$ and find the least action"
   ]
  },
  {
   "cell_type": "code",
   "execution_count": null,
   "metadata": {
    "colab": {},
    "colab_type": "code",
    "id": "kuK8f7bXdg0b"
   },
   "outputs": [],
   "source": [
    "def xfit(n,t=3.,m=0.2,xini=0.,xend=0.,ftol=1E-8):\n",
    "    '''Find the array of n (odd) components that minimizes the action S(x)\n",
    "\n",
    "    :Parameters:\n",
    "\n",
    "    n: odd integer \n",
    "        dimension of the ndarray x that minimizes the action  S(x,t,m)\n",
    "    t,m: numbers\n",
    "       optional parameters for the action\n",
    "    ftol: number\n",
    "        acceptable relative error in S(x) for convergence.\n",
    "\n",
    "    :Returns: (x,xmax,Smin)\n",
    "    \n",
    "    x: ndarray\n",
    "        minimizer of the action S(x)\n",
    "        \n",
    "    xini:\n",
    "    \n",
    "    xend:\n",
    "\n",
    "    xmax: number\n",
    "        Maximum height for the object\n",
    "\n",
    "    Smin: number\n",
    "        value of function at minimum: Smin = S(x)\n",
    "    '''\n",
    "    import scipy.optimize as optimize\n",
    "    t=float(t)\n",
    "    if n%2==0:\n",
    "        print ( 'x array must be odd')\n",
    "        sys.exit()\n",
    "  \n",
    "    x0=np.zeros(n)\n",
    "    a=optimize.fmin_powell(S,x0,args=(t,m,xini,xend),ftol=ftol,full_output=1)\n",
    "    x=a[0]\n",
    "    x[0]=xini;x[-1]=xend\n",
    "    xmax=np.sort(x)[-1]\n",
    "    Smin=a[1]\n",
    "    Dt=t/x[:-1].size #  t/(n-1)\n",
    "    return x,xmax,Smin,Dt  "
   ]
  },
  {
   "cell_type": "code",
   "execution_count": null,
   "metadata": {
    "colab": {
     "base_uri": "https://localhost:8080/",
     "height": 87
    },
    "colab_type": "code",
    "id": "U7KZICcmdg0d",
    "outputId": "8f99e8f0-3004-4ff4-ddbb-e15d344a9685"
   },
   "outputs": [
    {
     "name": "stdout",
     "output_type": "stream",
     "text": [
      "Optimization terminated successfully.\n",
      "         Current function value: -21.392910\n",
      "         Iterations: 15\n",
      "         Function evaluations: 2154\n"
     ]
    }
   ],
   "source": [
    "n=11\n",
    "t=3. # s\n",
    "m=0.2 # g\n",
    "y=xfit(n,t,m,ftol=1E-16)"
   ]
  },
  {
   "cell_type": "code",
   "execution_count": null,
   "metadata": {
    "colab": {
     "base_uri": "https://localhost:8080/",
     "height": 70
    },
    "colab_type": "code",
    "id": "BarKNSPQdg0f",
    "outputId": "c2d5c133-10cf-4280-f080-d6f0bad3f8fe"
   },
   "outputs": [
    {
     "data": {
      "text/plain": [
       "array([ 0.        ,  3.96900002,  7.05599999,  9.26099998, 10.58400002,\n",
       "       11.02500004, 10.58400005,  9.26100006,  7.05600004,  3.96900001,\n",
       "        0.        ])"
      ]
     },
     "execution_count": 113,
     "metadata": {
      "tags": []
     },
     "output_type": "execute_result"
    }
   ],
   "source": [
    "y[0]"
   ]
  },
  {
   "cell_type": "code",
   "execution_count": null,
   "metadata": {
    "colab": {},
    "colab_type": "code",
    "id": "IXAuIaPpdg0h"
   },
   "outputs": [],
   "source": [
    "x=y[0]"
   ]
  },
  {
   "cell_type": "code",
   "execution_count": null,
   "metadata": {
    "colab": {
     "base_uri": "https://localhost:8080/",
     "height": 52
    },
    "colab_type": "code",
    "id": "hiHuXYskdg0j",
    "outputId": "cbc064ea-941c-41f4-85ad-e155328eaf49"
   },
   "outputs": [
    {
     "name": "stdout",
     "output_type": "stream",
     "text": [
      "      2\n",
      "-4.9 x + 14.7 x - 1.402e-08\n"
     ]
    }
   ],
   "source": [
    "x=y[0]\n",
    "t=np.linspace(0,3,n)\n",
    "P=poly1d ( np.polyfit(t,x,2) )\n",
    "print( P )"
   ]
  },
  {
   "cell_type": "code",
   "execution_count": null,
   "metadata": {
    "colab": {
     "base_uri": "https://localhost:8080/",
     "height": 299
    },
    "colab_type": "code",
    "id": "p3_Mt89Tdg0m",
    "outputId": "82b4250d-5cdc-40c9-e6a0-910002939320"
   },
   "outputs": [
    {
     "data": {
      "text/plain": [
       "Text(0.5,1,'$S_{\\\\rm min}=-21.3929$')"
      ]
     },
     "execution_count": 116,
     "metadata": {
      "tags": []
     },
     "output_type": "execute_result"
    },
    {
     "data": {
      "image/png": "[encoded data removed]",
      "text/plain": [
       "<matplotlib.figure.Figure at 0x7fbf6bed2a58>"
      ]
     },
     "metadata": {
      "tags": []
     },
     "output_type": "display_data"
    }
   ],
   "source": [
    "plt.plot(t,x,'ro')\n",
    "T=np.linspace(0,3)\n",
    "plt.plot(T,P(T))\n",
    "plt.title(r'$S_{\\rm min}=%g$' %y[2])"
   ]
  },
  {
   "cell_type": "code",
   "execution_count": null,
   "metadata": {
    "colab": {
     "base_uri": "https://localhost:8080/",
     "height": 87
    },
    "colab_type": "code",
    "id": "r4j7898idg0p",
    "outputId": "b6e80269-adaf-4d38-f4e6-6460003364f8"
   },
   "outputs": [
    {
     "name": "stdout",
     "output_type": "stream",
     "text": [
      "Optimization terminated successfully.\n",
      "         Current function value: -21.554977\n",
      "         Iterations: 28\n",
      "         Function evaluations: 5837\n"
     ]
    }
   ],
   "source": [
    "t=3.\n",
    "m=0.2\n",
    "n=21\n",
    "y=xfit(n,t,m)\n",
    "x=y[0]\n",
    "Smin=y[2]\n",
    "Dt=t/x[:-1].size\n",
    "tx=np.arange(0,t+Dt,Dt)"
   ]
  },
  {
   "cell_type": "code",
   "execution_count": null,
   "metadata": {
    "colab": {
     "base_uri": "https://localhost:8080/",
     "height": 52
    },
    "colab_type": "code",
    "id": "8F4GhuwmI0lf",
    "outputId": "69e9f519-c8fd-488b-9689-358932abf4b3"
   },
   "outputs": [
    {
     "name": "stdout",
     "output_type": "stream",
     "text": [
      "      2\n",
      "-4.9 x + 14.7 x + 0.0001604\n"
     ]
    }
   ],
   "source": [
    "x=y[0]\n",
    "t=np.linspace(0,3,n)\n",
    "P=poly1d ( np.polyfit(t,x,2) )\n",
    "print( P )"
   ]
  },
  {
   "cell_type": "code",
   "execution_count": null,
   "metadata": {
    "colab": {
     "base_uri": "https://localhost:8080/",
     "height": 34
    },
    "colab_type": "code",
    "id": "GKt9gTYjHj7p",
    "outputId": "16053f64-9e95-4157-acf6-2187c54af597"
   },
   "outputs": [
    {
     "data": {
      "text/plain": [
       "0.15"
      ]
     },
     "execution_count": 128,
     "metadata": {
      "tags": []
     },
     "output_type": "execute_result"
    }
   ],
   "source": [
    "x=y[0]\n",
    "t=tx\n",
    "Dt"
   ]
  },
  {
   "cell_type": "code",
   "execution_count": null,
   "metadata": {
    "colab": {
     "base_uri": "https://localhost:8080/",
     "height": 34
    },
    "colab_type": "code",
    "id": "-05-V-OoH2OY",
    "outputId": "24dc3355-1dba-454d-def9-c5d956e23fa3"
   },
   "outputs": [
    {
     "data": {
      "text/plain": [
       "0.2"
      ]
     },
     "execution_count": 125,
     "metadata": {
      "tags": []
     },
     "output_type": "execute_result"
    }
   ],
   "source": [
    "m"
   ]
  },
  {
   "cell_type": "code",
   "execution_count": null,
   "metadata": {
    "colab": {
     "base_uri": "https://localhost:8080/",
     "height": 105
    },
    "colab_type": "code",
    "id": "QGlafouxHt8o",
    "outputId": "d7f92451-8b6f-4cbb-b17f-20dbeb45d5c0"
   },
   "outputs": [
    {
     "data": {
      "text/plain": [
       "array([  0.        ,  21.55712992,  73.91284699, 146.0420276 ,\n",
       "       228.21348894, 312.00329681, 390.30425847, 457.22580097,\n",
       "       508.26594986, 540.20139067, 551.05824894, 540.19663702,\n",
       "       508.27028432, 457.21813084, 390.2603388 , 311.97587507,\n",
       "       228.18868613, 146.02183087,  73.90046308,  21.55285329])"
      ]
     },
     "execution_count": 131,
     "metadata": {
      "tags": []
     },
     "output_type": "execute_result"
    }
   ],
   "source": [
    "0.5*m*((x[:1]-x[:-1])/Dt)**2+m*g*((x[:1]+x[:-1])/2)"
   ]
  },
  {
   "cell_type": "markdown",
   "metadata": {
    "colab_type": "text",
    "id": "AXKLZojEdg0s"
   },
   "source": [
    "### Further material\n",
    "http://www.damtp.cam.ac.uk/user/nsm10/PrincLeaAc.pdf\n",
    "https://jfuchs.hotell.kau.se/kurs/amek/prst/14_hpvp.pdf\n",
    "\n",
    "https://www.coursera.org/learn/general-relativity/lecture/8UHtE/the-least-action-or-minimal-action-principle-part-1\n",
    "\n",
    "https://jfi.uchicago.edu/~tten/from.panza/Physics185/Handouts/rubber-band%20analogy.pdf"
   ]
  }
 ],
 "metadata": {
  "colab": {
   "collapsed_sections": [],
   "include_colab_link": true,
   "name": "Minimization.ipynb",
   "provenance": [],
   "toc_visible": true
  },
  "kernelspec": {
   "display_name": "Python 3",
   "language": "python",
   "name": "python3"
  },
  "language_info": {
   "codemirror_mode": {
    "name": "ipython",
    "version": 3
   },
   "file_extension": ".py",
   "mimetype": "text/x-python",
   "name": "python",
   "nbconvert_exporter": "python",
   "pygments_lexer": "ipython3",
   "version": "3.7.6"
  }
 },
 "nbformat": 4,
 "nbformat_minor": 4
}
